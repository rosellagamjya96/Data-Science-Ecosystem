{
  "cells": [
    {
      "cell_type": "markdown",
      "metadata": {
        "id": "view-in-github",
        "colab_type": "text"
      },
      "source": [
        "<a href=\"https://colab.research.google.com/github/rosellagamjya96/Data-Science-Ecosystem/blob/main/DataScienceEcosystem_(4).ipynb\" target=\"_parent\"><img src=\"https://colab.research.google.com/assets/colab-badge.svg\" alt=\"Open In Colab\"/></a>"
      ]
    },
    {
      "cell_type": "markdown",
      "metadata": {
        "id": "cEWfUGtlt0vA"
      },
      "source": [
        "<center>\n",
        "    <img src=\"https://cf-courses-data.s3.us.cloud-object-storage.appdomain.cloud/IBMDeveloperSkillsNetwork-DS0105EN-SkillsNetwork/labs/Module2/images/SN_web_lightmode.png\" width=\"300\" alt=\"cognitiveclass.ai logo\">\n",
        "</center>\n"
      ]
    },
    {
      "cell_type": "markdown",
      "metadata": {
        "id": "vuNfXY6Ot0vE"
      },
      "source": [
        "#### Add your code below following the instructions given in the course\n"
      ]
    },
    {
      "cell_type": "markdown",
      "metadata": {
        "id": "rg7DxI76t0vF"
      },
      "source": [
        "Data Science Tools and Ecosystem"
      ]
    },
    {
      "cell_type": "markdown",
      "metadata": {
        "id": "L3epRwhEt0vF"
      },
      "source": [
        "Author"
      ]
    },
    {
      "cell_type": "markdown",
      "metadata": {
        "id": "Y3un6kJwt0vG"
      },
      "source": [
        "Rosella Gamjya"
      ]
    },
    {
      "cell_type": "markdown",
      "metadata": {
        "id": "dRI2vk32t0vG"
      },
      "source": [
        "In this Notebook, Data Science Tools and Ecosystem are summarized"
      ]
    },
    {
      "cell_type": "markdown",
      "metadata": {
        "id": "Gujlbr0Nt0vG"
      },
      "source": [
        "Objectives:"
      ]
    },
    {
      "cell_type": "markdown",
      "metadata": {
        "id": "5P8AJL8Rt0vH"
      },
      "source": [
        "List popular languages for Data Science\n",
        "List popular libraries for Data Science\n",
        "Practice code and markdown cells in Jupyter notebook"
      ]
    },
    {
      "cell_type": "markdown",
      "metadata": {
        "id": "G89bkiiwt0vH"
      },
      "source": [
        "Some of the popular languages that Data Scientists use are:"
      ]
    },
    {
      "cell_type": "markdown",
      "metadata": {
        "id": "lDdUjyJXt0vH"
      },
      "source": [
        "Python\n",
        "R\n",
        "SQL\n",
        "Tableau"
      ]
    },
    {
      "cell_type": "markdown",
      "metadata": {
        "id": "BAGhhhPqt0vI"
      },
      "source": [
        "Some of the commonly used libraries used by Data Scientists include:"
      ]
    },
    {
      "cell_type": "markdown",
      "metadata": {
        "id": "AjRUzVbCt0vI"
      },
      "source": [
        "TensorFlow\n",
        "PyTorch\n",
        "Pandas"
      ]
    },
    {
      "cell_type": "markdown",
      "metadata": {
        "id": "tkM96JASt0vI"
      },
      "source": [
        "Data Science Tools|"
      ]
    },
    {
      "cell_type": "markdown",
      "metadata": {
        "id": "dS6WWLnKt0vI"
      },
      "source": [
        "TensorFLow | Tableau | RStudio |"
      ]
    },
    {
      "cell_type": "markdown",
      "metadata": {
        "id": "EIg7Nsblt0vI"
      },
      "source": [
        "Below are a few examples of evaluating arithmetic expressions in Python"
      ]
    },
    {
      "cell_type": "code",
      "execution_count": null,
      "metadata": {
        "tags": [],
        "id": "ZNqe2RAot0vI",
        "outputId": "44a834a2-9f56-4f0a-965e-0714fd9721b8"
      },
      "outputs": [
        {
          "data": {
            "text/plain": [
              "17"
            ]
          },
          "execution_count": 1,
          "metadata": {},
          "output_type": "execute_result"
        }
      ],
      "source": [
        "#  This a simple arithmetic expression to mutiply then add integers\n",
        "(3*4)+5"
      ]
    },
    {
      "cell_type": "code",
      "execution_count": null,
      "metadata": {
        "tags": [],
        "id": "vaPM-g1-t0vK",
        "outputId": "4b1f0b1a-a4a3-4dce-a585-3589f73310a3"
      },
      "outputs": [
        {
          "data": {
            "text/plain": [
              "3.3333333333333335"
            ]
          },
          "execution_count": 2,
          "metadata": {},
          "output_type": "execute_result"
        }
      ],
      "source": [
        "# This will convert 200 minutes to hours by diving by 60\n",
        "200/60"
      ]
    }
  ],
  "metadata": {
    "kernelspec": {
      "display_name": "Python",
      "language": "python",
      "name": "conda-env-python-py"
    },
    "language_info": {
      "codemirror_mode": {
        "name": "ipython",
        "version": 3
      },
      "file_extension": ".py",
      "mimetype": "text/x-python",
      "name": "python",
      "nbconvert_exporter": "python",
      "pygments_lexer": "ipython3",
      "version": "3.7.12"
    },
    "colab": {
      "provenance": [],
      "include_colab_link": true
    }
  },
  "nbformat": 4,
  "nbformat_minor": 0
}